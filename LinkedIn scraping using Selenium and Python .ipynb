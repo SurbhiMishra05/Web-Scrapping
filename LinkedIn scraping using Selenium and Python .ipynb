{
 "cells": [
  {
   "cell_type": "code",
   "execution_count": null,
   "id": "fd63b8c7",
   "metadata": {},
   "outputs": [],
   "source": [
    "# Installation \n",
    "pip install selenium\n",
    "pip install pandas "
   ]
  },
  {
   "cell_type": "markdown",
   "id": "af6cead4",
   "metadata": {},
   "source": [
    "Download the webdriver according to your browser version"
   ]
  },
  {
   "cell_type": "code",
   "execution_count": null,
   "id": "a03e21ce",
   "metadata": {},
   "outputs": [],
   "source": [
    "# import all the packages \n",
    "import pandas as pd \n",
    "from selenium import webdriver\n",
    "from selenium.webdriver.common import keys\n",
    "from selenium.webdriver.chrome.service import Service\n",
    "from selenium.webdriver.common.by import By  # Import by "
   ]
  },
  {
   "cell_type": "code",
   "execution_count": null,
   "id": "29e84b72",
   "metadata": {},
   "outputs": [],
   "source": [
    "# This will open one crome window and linkedin page \n",
    "s = Service('Location of your CromeDriver')   # download the crome driver and mention the location here \n",
    "browser = webdriver.Chrome(service = s)\n",
    "url='http://www.linkedin.com'\n",
    "browser.get(url)"
   ]
  },
  {
   "cell_type": "code",
   "execution_count": null,
   "id": "f21710b2",
   "metadata": {},
   "outputs": [],
   "source": [
    "# To enter login details \n",
    "username = browser.find_element(By.ID,\"session_key\")  # enter element id \n",
    "username.send_keys(\"XYZ@gmail.com\")  # Id for login\n",
    "password = browser.find_element(By.ID,\"session_password\")\n",
    "password.send_keys(\"PASSWORD\") # password for login"
   ]
  },
  {
   "cell_type": "code",
   "execution_count": null,
   "id": "df795939",
   "metadata": {},
   "outputs": [],
   "source": [
    "# To click the login button \n",
    "login_button = browser.find_element(By.CLASS_NAME,\"sign-in-form__submit-button\")  \n",
    "login_button.click()"
   ]
  },
  {
   "cell_type": "code",
   "execution_count": null,
   "id": "b5c03119",
   "metadata": {},
   "outputs": [],
   "source": [
    "browser.get(\"Enter your search url here\")"
   ]
  },
  {
   "cell_type": "code",
   "execution_count": null,
   "id": "13ba5c81",
   "metadata": {},
   "outputs": [],
   "source": [
    "names = []\n",
    "places = []\n",
    "titles = []\n",
    "\n",
    "# Define a function to extract the data from the current page\n",
    "def extract_names():\n",
    "    # Locate the element containing the data we want to extract\n",
    "    n = browser.find_elements(By.CSS_SELECTOR,\"span.visually-hidden\")\n",
    "    # Extract the data and add it to the list\n",
    "    for i in n:\n",
    "        names.append(i.text)\n",
    "\n",
    "# Extract the data from the first page\n",
    "extract_names()\n",
    "\n",
    "WebDriverWait(browser, 10).until(EC.presence_of_element_located((By.XPATH,\"//*[contains(@class , 'entity-result__primary-subtitle t-14 t-black t-normal')]\")))\n",
    "time.sleep(2)\n",
    "\n",
    "\n",
    "def extract_titles():\n",
    "    t = browser.find_elements(By.XPATH,\"//*[contains(@class , 'entity-result__primary-subtitle t-14 t-black t-normal')]\")\n",
    "    for i in t:\n",
    "        titles.append(i.text)\n",
    "    \n",
    "    \n",
    "extract_titles()\n",
    "\n",
    "WebDriverWait(browser, 10).until(\n",
    "        EC.presence_of_element_located((By.XPATH,\"//*[contains(@class , 'entity-result__secondary-subtitle t-14 t-normal')]\")))\n",
    "time.sleep(2)\n",
    "\n",
    "    \n",
    "# extract places \n",
    "def extract_places():\n",
    "    p = browser.find_elements(By.XPATH,\"//*[contains(@class , 'entity-result__secondary-subtitle t-14 t-normal')]\")\n",
    "    for i in p:\n",
    "        places.append(i.text)\n",
    "    \n",
    "extract_places()\n",
    "\n",
    "# Set up a loop to navigate to and extract data from the remaining pages\n",
    "from selenium.common.exceptions import NoSuchElementException\n",
    "\n",
    "while True:\n",
    "  # code to retrieve data using Selenium\n",
    "\n",
    "  try:\n",
    "    # Try to locate the \"Next Page\" button\n",
    "    next_page_button =  browser.find_element(By.XPATH, '//span[normalize-space()=\"Next\"]')\n",
    "  except NoSuchElementException:\n",
    "    # If the element is not found, it means we are on the last page\n",
    "    break\n",
    "\n",
    "  # If the element is found, it means we are not on the last page\n",
    "  # Click the \"Next Page\" button to go to the next page\n",
    "    next_page_button.click()\n",
    "\n",
    "    extract_names()\n",
    "    extract_titles()\n",
    "    extract_places()\n",
    "  \n",
    "    time.sleep(10)\n",
    "\n",
    "\n",
    "    \n",
    "# Print the data we've extracted\n",
    "print(names)\n",
    "print(len(names))\n",
    "print()\n",
    "print(titles)\n",
    "print(len(titles))\n",
    "print()\n",
    "print(places)\n",
    "print(len(places))\n",
    "browser.close()"
   ]
  },
  {
   "cell_type": "code",
   "execution_count": null,
   "id": "b621c59f",
   "metadata": {},
   "outputs": [],
   "source": [
    "# To check if an element is present on the page or not \n",
    "# If the element is not present - then check the locator entered, it might be wrong or there might be typo.\n",
    "#                          - wait for the page to load, it might not be loaded. You can use 'wait' in your code for this purpose\n",
    "from selenium.common.exceptions import NoSuchElementException\n",
    "\n",
    "try: \n",
    "    element = browser.find_element(By.CSS_SELECTOR, \"button[aria-label='Page 2']\")\n",
    "except NoSuchElementException:\n",
    "    print(\"Element does not exist on page\")"
   ]
  },
  {
   "cell_type": "code",
   "execution_count": null,
   "id": "56f81629",
   "metadata": {},
   "outputs": [],
   "source": [
    "# making dataframe for the data \n",
    "col = [\"Names\",\"Titles\",\"Places\"]  # Name the columns accordingly \n",
    "df = pd.DataFrame({\"Names\": names , \"Titles\" : titles ,\"Places\" : places })"
   ]
  },
  {
   "cell_type": "code",
   "execution_count": null,
   "id": "1f5ead6b",
   "metadata": {},
   "outputs": [],
   "source": [
    "# To see the first five rows of the dataframe\n",
    "df.head()"
   ]
  },
  {
   "cell_type": "code",
   "execution_count": null,
   "id": "ed67ee93",
   "metadata": {},
   "outputs": [],
   "source": [
    "# Convert datafrome to csv/excel\n",
    "df.to_csv('file_name.csv') # To csv file\n",
    "df.to_excel('file_name.xlsx') # To excel file "
   ]
  }
 ],
 "metadata": {
  "kernelspec": {
   "display_name": "Python 3 (ipykernel)",
   "language": "python",
   "name": "python3"
  },
  "language_info": {
   "codemirror_mode": {
    "name": "ipython",
    "version": 3
   },
   "file_extension": ".py",
   "mimetype": "text/x-python",
   "name": "python",
   "nbconvert_exporter": "python",
   "pygments_lexer": "ipython3",
   "version": "3.9.12"
  }
 },
 "nbformat": 4,
 "nbformat_minor": 5
}
